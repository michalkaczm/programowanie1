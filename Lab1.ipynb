{
  "nbformat": 4,
  "nbformat_minor": 0,
  "metadata": {
    "kernelspec": {
      "display_name": "Python 3",
      "language": "python",
      "name": "python3"
    },
    "language_info": {
      "codemirror_mode": {
        "name": "ipython",
        "version": 3
      },
      "file_extension": ".py",
      "mimetype": "text/x-python",
      "name": "python",
      "nbconvert_exporter": "python",
      "pygments_lexer": "ipython3",
      "version": "3.8.5"
    },
    "colab": {
      "name": "Lab1.ipynb",
      "provenance": [],
      "collapsed_sections": [],
      "include_colab_link": true
    }
  },
  "cells": [
    {
      "cell_type": "markdown",
      "metadata": {
        "id": "view-in-github",
        "colab_type": "text"
      },
      "source": [
        "<a href=\"https://colab.research.google.com/github/michalkaczm/programowanie1/blob/main/Lab1.ipynb\" target=\"_parent\"><img src=\"https://colab.research.google.com/assets/colab-badge.svg\" alt=\"Open In Colab\"/></a>"
      ]
    },
    {
      "cell_type": "markdown",
      "metadata": {
        "id": "X2DSrRK4xl0o"
      },
      "source": [
        "# Wprowadzenie do programoowania w języku Python"
      ]
    },
    {
      "cell_type": "markdown",
      "metadata": {
        "id": "kSv21eqjxl00"
      },
      "source": [
        "## Zadanie 1"
      ]
    },
    {
      "cell_type": "markdown",
      "metadata": {
        "id": "DYT_r99Uxl01"
      },
      "source": [
        "Instalacja środowiska Anaconda\n",
        "\n",
        "### krok 1. Pobranie pakietu instalacyjnego z strony Anacondy\n",
        "https://www.anaconda.com/products/individual#Downloads\n",
        "\n",
        "### Krok 2. Instalacja\n",
        "\n",
        "### Krok 3. Utworzenie nowego środowiska \n",
        "`conda create -n programowanie1 python=3.8`\n",
        "\n",
        "### krok 4. Aktywacja środowiska\n",
        "`conda activate programowanie1`\n",
        "\n",
        "### krok 5. Uruchomienie Jupyter Notebook\n",
        "`jupyter notebook`"
      ]
    },
    {
      "cell_type": "markdown",
      "metadata": {
        "id": "n4SmwB5Mxl02"
      },
      "source": [
        "## Zadanie 2\n",
        "Zapoznaj się z dokumentacją opisującą następujące wbudowane funkcje:\n",
        "\n",
        "* [help](https://docs.python.org/3/library/functions.html#help)\n",
        "* [print](https://docs.python.org/3/library/functions.html#print)\n",
        "* [input](https://docs.python.org/3/library/functions.html#input)\n",
        "* [len](https://docs.python.org/3/library/functions.html#len)\n",
        "* [type](https://docs.python.org/3/library/functions.html#type)\n",
        "* [dir](https://docs.python.org/3/library/functions.html#dir)\n",
        "\n",
        "I spróbuj je wykorzystać"
      ]
    },
    {
      "cell_type": "code",
      "metadata": {
        "scrolled": true,
        "id": "NApfoMFmxl02",
        "outputId": "23e12629-6b92-44ae-d8f5-a7d3a3230581"
      },
      "source": [
        "D = [1,1,2,66,4,2]\n",
        "t = [len(D),type(D)]\n",
        "t"
      ],
      "execution_count": null,
      "outputs": [
        {
          "output_type": "execute_result",
          "data": {
            "text/plain": [
              "[6, list]"
            ]
          },
          "metadata": {
            "tags": []
          },
          "execution_count": 25
        }
      ]
    },
    {
      "cell_type": "code",
      "metadata": {
        "scrolled": true,
        "id": "Al_dsNeGxl03",
        "outputId": "9dd68069-4e65-43ea-acce-bb754e13e986"
      },
      "source": [
        "help(5)"
      ],
      "execution_count": null,
      "outputs": [
        {
          "output_type": "stream",
          "text": [
            "Help on int object:\n",
            "\n",
            "class int(object)\n",
            " |  int([x]) -> integer\n",
            " |  int(x, base=10) -> integer\n",
            " |  \n",
            " |  Convert a number or string to an integer, or return 0 if no arguments\n",
            " |  are given.  If x is a number, return x.__int__().  For floating point\n",
            " |  numbers, this truncates towards zero.\n",
            " |  \n",
            " |  If x is not a number or if base is given, then x must be a string,\n",
            " |  bytes, or bytearray instance representing an integer literal in the\n",
            " |  given base.  The literal can be preceded by '+' or '-' and be surrounded\n",
            " |  by whitespace.  The base defaults to 10.  Valid bases are 0 and 2-36.\n",
            " |  Base 0 means to interpret the base from the string as an integer literal.\n",
            " |  >>> int('0b100', base=0)\n",
            " |  4\n",
            " |  \n",
            " |  Built-in subclasses:\n",
            " |      bool\n",
            " |  \n",
            " |  Methods defined here:\n",
            " |  \n",
            " |  __abs__(self, /)\n",
            " |      abs(self)\n",
            " |  \n",
            " |  __add__(self, value, /)\n",
            " |      Return self+value.\n",
            " |  \n",
            " |  __and__(self, value, /)\n",
            " |      Return self&value.\n",
            " |  \n",
            " |  __bool__(self, /)\n",
            " |      self != 0\n",
            " |  \n",
            " |  __ceil__(...)\n",
            " |      Ceiling of an Integral returns itself.\n",
            " |  \n",
            " |  __divmod__(self, value, /)\n",
            " |      Return divmod(self, value).\n",
            " |  \n",
            " |  __eq__(self, value, /)\n",
            " |      Return self==value.\n",
            " |  \n",
            " |  __float__(self, /)\n",
            " |      float(self)\n",
            " |  \n",
            " |  __floor__(...)\n",
            " |      Flooring an Integral returns itself.\n",
            " |  \n",
            " |  __floordiv__(self, value, /)\n",
            " |      Return self//value.\n",
            " |  \n",
            " |  __format__(self, format_spec, /)\n",
            " |      Default object formatter.\n",
            " |  \n",
            " |  __ge__(self, value, /)\n",
            " |      Return self>=value.\n",
            " |  \n",
            " |  __getattribute__(self, name, /)\n",
            " |      Return getattr(self, name).\n",
            " |  \n",
            " |  __getnewargs__(self, /)\n",
            " |  \n",
            " |  __gt__(self, value, /)\n",
            " |      Return self>value.\n",
            " |  \n",
            " |  __hash__(self, /)\n",
            " |      Return hash(self).\n",
            " |  \n",
            " |  __index__(self, /)\n",
            " |      Return self converted to an integer, if self is suitable for use as an index into a list.\n",
            " |  \n",
            " |  __int__(self, /)\n",
            " |      int(self)\n",
            " |  \n",
            " |  __invert__(self, /)\n",
            " |      ~self\n",
            " |  \n",
            " |  __le__(self, value, /)\n",
            " |      Return self<=value.\n",
            " |  \n",
            " |  __lshift__(self, value, /)\n",
            " |      Return self<<value.\n",
            " |  \n",
            " |  __lt__(self, value, /)\n",
            " |      Return self<value.\n",
            " |  \n",
            " |  __mod__(self, value, /)\n",
            " |      Return self%value.\n",
            " |  \n",
            " |  __mul__(self, value, /)\n",
            " |      Return self*value.\n",
            " |  \n",
            " |  __ne__(self, value, /)\n",
            " |      Return self!=value.\n",
            " |  \n",
            " |  __neg__(self, /)\n",
            " |      -self\n",
            " |  \n",
            " |  __or__(self, value, /)\n",
            " |      Return self|value.\n",
            " |  \n",
            " |  __pos__(self, /)\n",
            " |      +self\n",
            " |  \n",
            " |  __pow__(self, value, mod=None, /)\n",
            " |      Return pow(self, value, mod).\n",
            " |  \n",
            " |  __radd__(self, value, /)\n",
            " |      Return value+self.\n",
            " |  \n",
            " |  __rand__(self, value, /)\n",
            " |      Return value&self.\n",
            " |  \n",
            " |  __rdivmod__(self, value, /)\n",
            " |      Return divmod(value, self).\n",
            " |  \n",
            " |  __repr__(self, /)\n",
            " |      Return repr(self).\n",
            " |  \n",
            " |  __rfloordiv__(self, value, /)\n",
            " |      Return value//self.\n",
            " |  \n",
            " |  __rlshift__(self, value, /)\n",
            " |      Return value<<self.\n",
            " |  \n",
            " |  __rmod__(self, value, /)\n",
            " |      Return value%self.\n",
            " |  \n",
            " |  __rmul__(self, value, /)\n",
            " |      Return value*self.\n",
            " |  \n",
            " |  __ror__(self, value, /)\n",
            " |      Return value|self.\n",
            " |  \n",
            " |  __round__(...)\n",
            " |      Rounding an Integral returns itself.\n",
            " |      Rounding with an ndigits argument also returns an integer.\n",
            " |  \n",
            " |  __rpow__(self, value, mod=None, /)\n",
            " |      Return pow(value, self, mod).\n",
            " |  \n",
            " |  __rrshift__(self, value, /)\n",
            " |      Return value>>self.\n",
            " |  \n",
            " |  __rshift__(self, value, /)\n",
            " |      Return self>>value.\n",
            " |  \n",
            " |  __rsub__(self, value, /)\n",
            " |      Return value-self.\n",
            " |  \n",
            " |  __rtruediv__(self, value, /)\n",
            " |      Return value/self.\n",
            " |  \n",
            " |  __rxor__(self, value, /)\n",
            " |      Return value^self.\n",
            " |  \n",
            " |  __sizeof__(self, /)\n",
            " |      Returns size in memory, in bytes.\n",
            " |  \n",
            " |  __sub__(self, value, /)\n",
            " |      Return self-value.\n",
            " |  \n",
            " |  __truediv__(self, value, /)\n",
            " |      Return self/value.\n",
            " |  \n",
            " |  __trunc__(...)\n",
            " |      Truncating an Integral returns itself.\n",
            " |  \n",
            " |  __xor__(self, value, /)\n",
            " |      Return self^value.\n",
            " |  \n",
            " |  as_integer_ratio(self, /)\n",
            " |      Return integer ratio.\n",
            " |      \n",
            " |      Return a pair of integers, whose ratio is exactly equal to the original int\n",
            " |      and with a positive denominator.\n",
            " |      \n",
            " |      >>> (10).as_integer_ratio()\n",
            " |      (10, 1)\n",
            " |      >>> (-10).as_integer_ratio()\n",
            " |      (-10, 1)\n",
            " |      >>> (0).as_integer_ratio()\n",
            " |      (0, 1)\n",
            " |  \n",
            " |  bit_length(self, /)\n",
            " |      Number of bits necessary to represent self in binary.\n",
            " |      \n",
            " |      >>> bin(37)\n",
            " |      '0b100101'\n",
            " |      >>> (37).bit_length()\n",
            " |      6\n",
            " |  \n",
            " |  conjugate(...)\n",
            " |      Returns self, the complex conjugate of any int.\n",
            " |  \n",
            " |  to_bytes(self, /, length, byteorder, *, signed=False)\n",
            " |      Return an array of bytes representing an integer.\n",
            " |      \n",
            " |      length\n",
            " |        Length of bytes object to use.  An OverflowError is raised if the\n",
            " |        integer is not representable with the given number of bytes.\n",
            " |      byteorder\n",
            " |        The byte order used to represent the integer.  If byteorder is 'big',\n",
            " |        the most significant byte is at the beginning of the byte array.  If\n",
            " |        byteorder is 'little', the most significant byte is at the end of the\n",
            " |        byte array.  To request the native byte order of the host system, use\n",
            " |        `sys.byteorder' as the byte order value.\n",
            " |      signed\n",
            " |        Determines whether two's complement is used to represent the integer.\n",
            " |        If signed is False and a negative integer is given, an OverflowError\n",
            " |        is raised.\n",
            " |  \n",
            " |  ----------------------------------------------------------------------\n",
            " |  Class methods defined here:\n",
            " |  \n",
            " |  from_bytes(bytes, byteorder, *, signed=False) from builtins.type\n",
            " |      Return the integer represented by the given array of bytes.\n",
            " |      \n",
            " |      bytes\n",
            " |        Holds the array of bytes to convert.  The argument must either\n",
            " |        support the buffer protocol or be an iterable object producing bytes.\n",
            " |        Bytes and bytearray are examples of built-in objects that support the\n",
            " |        buffer protocol.\n",
            " |      byteorder\n",
            " |        The byte order used to represent the integer.  If byteorder is 'big',\n",
            " |        the most significant byte is at the beginning of the byte array.  If\n",
            " |        byteorder is 'little', the most significant byte is at the end of the\n",
            " |        byte array.  To request the native byte order of the host system, use\n",
            " |        `sys.byteorder' as the byte order value.\n",
            " |      signed\n",
            " |        Indicates whether two's complement is used to represent the integer.\n",
            " |  \n",
            " |  ----------------------------------------------------------------------\n",
            " |  Static methods defined here:\n",
            " |  \n",
            " |  __new__(*args, **kwargs) from builtins.type\n",
            " |      Create and return a new object.  See help(type) for accurate signature.\n",
            " |  \n",
            " |  ----------------------------------------------------------------------\n",
            " |  Data descriptors defined here:\n",
            " |  \n",
            " |  denominator\n",
            " |      the denominator of a rational number in lowest terms\n",
            " |  \n",
            " |  imag\n",
            " |      the imaginary part of a complex number\n",
            " |  \n",
            " |  numerator\n",
            " |      the numerator of a rational number in lowest terms\n",
            " |  \n",
            " |  real\n",
            " |      the real part of a complex number\n",
            "\n"
          ],
          "name": "stdout"
        }
      ]
    },
    {
      "cell_type": "code",
      "metadata": {
        "id": "S_fRGCvlxl04",
        "outputId": "f3f64598-30c1-454f-e880-42328ff63d71"
      },
      "source": [
        "print(print)"
      ],
      "execution_count": null,
      "outputs": [
        {
          "output_type": "stream",
          "text": [
            "<built-in function print>\n"
          ],
          "name": "stdout"
        }
      ]
    },
    {
      "cell_type": "code",
      "metadata": {
        "id": "2eJz6j1Uxl05",
        "outputId": "303fe84f-fd2f-4c97-eb25-d43303540990"
      },
      "source": [
        "P = input(\"LALALA:\")\n",
        "P"
      ],
      "execution_count": null,
      "outputs": [
        {
          "output_type": "stream",
          "text": [
            "LALALA:adaaa\n"
          ],
          "name": "stdout"
        },
        {
          "output_type": "execute_result",
          "data": {
            "text/plain": [
              "'adaaa'"
            ]
          },
          "metadata": {
            "tags": []
          },
          "execution_count": 72
        }
      ]
    },
    {
      "cell_type": "markdown",
      "metadata": {
        "id": "-FHAZapUxl05"
      },
      "source": [
        "## Zadanie 3\n",
        "Korzystając z funkcji `help()` dowiedzsię coś na temat:\n",
        "\n",
        "* int\n",
        "* float\n",
        "* str\n",
        "* print\n",
        "* input\n",
        "* len"
      ]
    },
    {
      "cell_type": "code",
      "metadata": {
        "id": "nPf74TgDxl06"
      },
      "source": [
        "# miejsce na Twój kod"
      ],
      "execution_count": null,
      "outputs": []
    },
    {
      "cell_type": "markdown",
      "metadata": {
        "id": "pyCCIzXOxl06"
      },
      "source": [
        "## Zadanie 4\n",
        "\n",
        "Utwórz kilka zmiennych różnego typu."
      ]
    },
    {
      "cell_type": "code",
      "metadata": {
        "id": "m2PRWrVWxl07",
        "outputId": "813b4d90-039b-46b5-ad66-b8652a76cf34"
      },
      "source": [
        "import random \n",
        "import numpy as np\n",
        "randomfloat = np.random.randn()\n",
        "T = [int(5), randomfloat, str(\"aaa\")]\n",
        "T"
      ],
      "execution_count": null,
      "outputs": [
        {
          "output_type": "execute_result",
          "data": {
            "text/plain": [
              "[5, 0.7224204093824692, 'aaa']"
            ]
          },
          "metadata": {
            "tags": []
          },
          "execution_count": 24
        }
      ]
    },
    {
      "cell_type": "markdown",
      "metadata": {
        "id": "vjFNSBzRxl07"
      },
      "source": [
        "## Zadanie 5\n",
        "Korzystając z funkcji `type()` sprawdź jakiego typu są to zmienne."
      ]
    },
    {
      "cell_type": "code",
      "metadata": {
        "id": "iGJ2v9-7xl07",
        "outputId": "6ac79d60-f211-423f-ffcd-558b4c8b73ab"
      },
      "source": [
        "C = [type(t), type(randomfloat)]\n",
        "C"
      ],
      "execution_count": null,
      "outputs": [
        {
          "output_type": "execute_result",
          "data": {
            "text/plain": [
              "[list, float]"
            ]
          },
          "metadata": {
            "tags": []
          },
          "execution_count": 28
        }
      ]
    },
    {
      "cell_type": "markdown",
      "metadata": {
        "id": "oLLeG12lxl08"
      },
      "source": [
        "## Zadanie 6\n",
        "Zastosuj funkcję `print()` do wyświetlenia na ekranie tekstu 'Witaj Świecie!'."
      ]
    },
    {
      "cell_type": "code",
      "metadata": {
        "id": "nC6h6qiBxl08",
        "outputId": "d2efb858-99de-4c5d-8716-23d5bfbf6c90"
      },
      "source": [
        "print(\"Witaj Świecie!\")"
      ],
      "execution_count": null,
      "outputs": [
        {
          "output_type": "stream",
          "text": [
            "Witaj Świecie!\n"
          ],
          "name": "stdout"
        }
      ]
    },
    {
      "cell_type": "markdown",
      "metadata": {
        "id": "xzA9YZ1Dxl09"
      },
      "source": [
        "## Zadanie 7\n",
        "\n",
        "Zapoznaj się z dosłownym formatowaniem łańcuchowym [f-strings](https://docs.python.org/3/reference/lexical_analysis.html#f-strings)."
      ]
    },
    {
      "cell_type": "markdown",
      "metadata": {
        "id": "8IAubIMGxl09"
      },
      "source": [
        "## Zadanie 8\n",
        "Zastosuj funkcję `print()` do wyświetlenia na ekranie: zmienna1 = wartosc."
      ]
    },
    {
      "cell_type": "code",
      "metadata": {
        "id": "UdVD-IaGxl0-",
        "outputId": "ef08dd06-4015-4b51-913c-d2ff00dac5e7"
      },
      "source": [
        "import numpy as np\n",
        "zmienna1 = 20.5\n",
        "print(f\"zmienna1 = {np.random.randint(1,100)}\")"
      ],
      "execution_count": null,
      "outputs": [
        {
          "output_type": "stream",
          "text": [
            "zmienna1 = 15\n"
          ],
          "name": "stdout"
        }
      ]
    },
    {
      "cell_type": "markdown",
      "metadata": {
        "id": "46rFWbQYxl0-"
      },
      "source": [
        "## Zadanie 9\n",
        "\n",
        "Napisz kod który doda dwie zmienne typu int do siebie i wyświetli wartość na ekranie."
      ]
    },
    {
      "cell_type": "code",
      "metadata": {
        "id": "QSMoueVCxl0-",
        "outputId": "5fa6df2f-7a60-4315-fd62-2d9de589f41f"
      },
      "source": [
        "import numpy as np\n",
        "import random\n",
        "randint1 = np.random.randint(1, 1000)\n",
        "randint2 = np.random.randint(1, 100)\n",
        "I = [randint1, randint2]\n",
        "dodawanie = randint1+randint2\n",
        "P = [I, dodawanie]\n",
        "P"
      ],
      "execution_count": null,
      "outputs": [
        {
          "output_type": "execute_result",
          "data": {
            "text/plain": [
              "[[137, 71], 208]"
            ]
          },
          "metadata": {
            "tags": []
          },
          "execution_count": 41
        }
      ]
    },
    {
      "cell_type": "markdown",
      "metadata": {
        "id": "hOgi3nrHxl0_"
      },
      "source": [
        "## Zadanie 10\n",
        "\n",
        "Napisz kod który wyświetli na ekranie '---------------------------------------' stosując pewną własność łańcuchów znakowych."
      ]
    },
    {
      "cell_type": "code",
      "metadata": {
        "id": "7XhrQv9Dxl0_",
        "outputId": "d9338f3d-f3cc-49bf-87cc-d0252cf23924"
      },
      "source": [
        "\"-\"*100"
      ],
      "execution_count": null,
      "outputs": [
        {
          "output_type": "execute_result",
          "data": {
            "text/plain": [
              "'----------------------------------------------------------------------------------------------------'"
            ]
          },
          "metadata": {
            "tags": []
          },
          "execution_count": 43
        }
      ]
    },
    {
      "cell_type": "markdown",
      "metadata": {
        "id": "6bIpiAusxl0_"
      },
      "source": [
        "## Zadanie 11\n",
        "\n",
        "Napisz kod który wyświetli na ekranie '-bc--bc--bc--bc--bc-' stosując pewną własność łańcuchów znakowych."
      ]
    },
    {
      "cell_type": "code",
      "metadata": {
        "id": "IElZItFvxl1A",
        "outputId": "4ebe6d5c-64fb-49d1-a416-c83a62485fc4"
      },
      "source": [
        "\"-bc-\"*5"
      ],
      "execution_count": null,
      "outputs": [
        {
          "output_type": "execute_result",
          "data": {
            "text/plain": [
              "'-bc--bc--bc--bc--bc-'"
            ]
          },
          "metadata": {
            "tags": []
          },
          "execution_count": 44
        }
      ]
    },
    {
      "cell_type": "markdown",
      "metadata": {
        "id": "G7X0GNfUxl1A"
      },
      "source": [
        "## Zadanie 12\n",
        "Napisz kod który pobierze od użytkownika jego imię a następnie go powita."
      ]
    },
    {
      "cell_type": "code",
      "metadata": {
        "id": "UDQW6641xl1A",
        "outputId": "462dacfd-56e3-4f69-fb54-5e49c2fabef6"
      },
      "source": [
        "imie = input(\"Podaj imie:\")\n",
        "imie\n",
        "print(\"Witaj!\", imie)"
      ],
      "execution_count": null,
      "outputs": [
        {
          "output_type": "stream",
          "text": [
            "Podaj imie:Michał\n",
            "Witaj! Michał\n"
          ],
          "name": "stdout"
        }
      ]
    },
    {
      "cell_type": "markdown",
      "metadata": {
        "id": "giS62BIDxl1B"
      },
      "source": [
        "## Zadanie 13\n",
        "Napisz kod który pobierze od użytkownika liczbę i wyświetli jej typ (`type()`) na ekranie."
      ]
    },
    {
      "cell_type": "code",
      "metadata": {
        "id": "_DqqIHJOxl1B",
        "outputId": "f3438671-39eb-4085-e73b-70ae71d512da"
      },
      "source": [
        "typyy = [input(\"podaj liczbę:\")]\n",
        "print()"
      ],
      "execution_count": null,
      "outputs": [
        {
          "output_type": "stream",
          "text": [
            "podaj liczbę:12\n"
          ],
          "name": "stdout"
        },
        {
          "output_type": "error",
          "ename": "TypeError",
          "evalue": "int() argument must be a string, a bytes-like object or a number, not 'type'",
          "traceback": [
            "\u001b[1;31m---------------------------------------------------------------------------\u001b[0m",
            "\u001b[1;31mTypeError\u001b[0m                                 Traceback (most recent call last)",
            "\u001b[1;32m<ipython-input-93-1c8bfd32294e>\u001b[0m in \u001b[0;36m<module>\u001b[1;34m\u001b[0m\n\u001b[0;32m      1\u001b[0m \u001b[0mtypyy\u001b[0m \u001b[1;33m=\u001b[0m \u001b[0minput\u001b[0m\u001b[1;33m(\u001b[0m\u001b[1;34m\"podaj liczbę:\"\u001b[0m\u001b[1;33m)\u001b[0m\u001b[1;33m\u001b[0m\u001b[1;33m\u001b[0m\u001b[0m\n\u001b[1;32m----> 2\u001b[1;33m \u001b[0mint\u001b[0m\u001b[1;33m(\u001b[0m\u001b[0mtype\u001b[0m\u001b[1;33m(\u001b[0m\u001b[0mtypyy\u001b[0m\u001b[1;33m)\u001b[0m\u001b[1;33m)\u001b[0m\u001b[1;33m\u001b[0m\u001b[1;33m\u001b[0m\u001b[0m\n\u001b[0m\u001b[0;32m      3\u001b[0m \u001b[1;33m\u001b[0m\u001b[0m\n",
            "\u001b[1;31mTypeError\u001b[0m: int() argument must be a string, a bytes-like object or a number, not 'type'"
          ]
        }
      ]
    },
    {
      "cell_type": "markdown",
      "metadata": {
        "id": "LOEim-3-xl1C"
      },
      "source": [
        "## Zadanie 14\n",
        "Napisz kod podobny do poprzedniego, z tą różnicą, że jeżeli `imie == 'Azor'` to przywitaj go `'Dobry piesek!'`.\n",
        "\n",
        "Przykład 1:\n",
        "```shell\n",
        "Podaj imię > Michal\n",
        "Witaj Michal!\n",
        "```\n",
        "\n",
        "Przykład 2:\n",
        "```shell\n",
        "Podaj imię > Azor\n",
        "Dobry piesek!\n",
        "```"
      ]
    },
    {
      "cell_type": "code",
      "metadata": {
        "id": "iz4BWA2Ixl1C",
        "outputId": "3ed5b97e-fe66-4c18-f788-0b15cd337541"
      },
      "source": [
        "imie = input(\"Podaj imie:\")\n",
        "if imie == \"Azor\":\n",
        "    print(\"Dobry piesek!\")\n",
        "else: \n",
        "    print(f\"Witaj {imie}\")"
      ],
      "execution_count": null,
      "outputs": [
        {
          "output_type": "stream",
          "text": [
            "Podaj imie:Azor\n",
            "Dobry piesek!\n"
          ],
          "name": "stdout"
        }
      ]
    },
    {
      "cell_type": "markdown",
      "metadata": {
        "id": "xZrr6SInxl1C"
      },
      "source": [
        "## Zadanie 15\n",
        "Napisz prosty kalkulator.\n",
        "Pobierz dwie wartości od użytkownika oraz rodzaj operacji (+,-,*,/) a następnie wyświetl na ekranie rozwiązanie.\n",
        "\n",
        "przykład:\n",
        "```shell\n",
        "Podaj pierwszą liczbę > 1\n",
        "Podaj drugą liczbę > 3\n",
        "Podaj operację (+,-,*,/) > +\n",
        "wynik: 4\n",
        "```"
      ]
    },
    {
      "cell_type": "code",
      "metadata": {
        "id": "N9lr5nrIxl1D",
        "outputId": "d1ead693-b179-45fe-88a9-cff7ed9ea4d3"
      },
      "source": [
        "number1 = input(\"Podaj pierwszą liczbę:\")\n",
        "number2 = input(\"Podaj drugą liczbę:\")\n",
        "operation = input(\"Podaj operację (+,-,*,/) :\")\n",
        "if operation == \"+\":\n",
        "    dodawanie = number1+number2\n",
        "    print(dodawanie)\n",
        "elif operation == \"-\":\n",
        "    odejmowanie = number1-number2\n",
        "    print(odejmowanie)\n",
        "elif operation == \"*\":\n",
        "    mnozenie = number1*number2\n",
        "    print(mnozenie)\n",
        "elif operation == \"/\":\n",
        "    dzielenie = number1/number2\n",
        "    print(dzielenie)\n",
        "else:\n",
        "    print(\"niepoprawny znak\")\n"
      ],
      "execution_count": null,
      "outputs": [
        {
          "output_type": "stream",
          "text": [
            "Podaj pierwszą liczbę:a\n",
            "Podaj drugą liczbę:a\n",
            "Podaj operację (+,-,*,/) :+\n",
            "aa\n"
          ],
          "name": "stdout"
        }
      ]
    },
    {
      "cell_type": "markdown",
      "metadata": {
        "id": "9rRHKpjyxl1D"
      },
      "source": [
        "## Zadanie 16\n",
        "Zmodyfikuj kalkulator z poprzedniego zadania tak, aby można było podawać liczby zmiennoprzecinkowe (`float`).\n",
        "\n",
        "przykład:\n",
        "```shell\n",
        "Podaj pierwszą liczbę > 1.5\n",
        "Podaj drugą liczbę > 3.5\n",
        "Podaj operację (+,-,*,/) > -\n",
        "wynik: -2.0\n",
        "```"
      ]
    },
    {
      "cell_type": "code",
      "metadata": {
        "colab": {
          "base_uri": "https://localhost:8080/"
        },
        "id": "8AkYNUDyxl1E",
        "outputId": "d891edae-b73f-4c32-cf39-b4f4851cfe94"
      },
      "source": [
        "import click \n",
        "\n",
        "kalkulator = [number1, number2, operation]\n",
        "for x in kalkulator:\n",
        "  number1 = float(input(\"Podaj pierwszą liczbę:\"))\n",
        "  number2 = float(input(\"Podaj drugą liczbę:\"))\n",
        "  operation = input(\"Podaj operację (+,-,*,/) :\")\n",
        "  if operation == \"+\":\n",
        "      dodawanie = number1+number2\n",
        "      print(\"Wynik: \",dodawanie)\n",
        "  elif operation == \"-\": \n",
        "      odejmowanie = number1-number2\n",
        "      print(\"Wynik: \",odejmowanie)\n",
        "  elif operation == \"*\": \n",
        "      mnozenie = number1*number2\n",
        "      print(\"Wynik: \",mnozenie)\n",
        "  elif operation == \"/\": \n",
        "      dzielenie = number1/number2\n",
        "      print(\"Wynik: \", dzielenie)\n",
        "  else:\n",
        "      print(\"niepoprawny znak\")\n",
        "  x = input(\"Wpisz yes aby kontynuować, wpisz no aby przerwać: \")\n",
        "  if x == \"yes\": continue\n",
        "  elif x == \"no\": break \n",
        "print(\"Dziękujemy za skorzystanie z kalkulatora\")\n",
        "\n"
      ],
      "execution_count": 21,
      "outputs": [
        {
          "output_type": "stream",
          "text": [
            "Podaj pierwszą liczbę:1000\n",
            "Podaj drugą liczbę:19\n",
            "Podaj operację (+,-,*,/) :-\n",
            "Wynik:  981.0\n",
            "Wpisz yes aby kontynuować, wpisz no aby przerwać: no\n",
            "Dziękujemy za skorzystanie z kalkulatora\n"
          ],
          "name": "stdout"
        }
      ]
    }
  ]
}